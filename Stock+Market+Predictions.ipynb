{
 "cells": [
  {
   "cell_type": "markdown",
   "metadata": {},
   "source": [
    "### Stock Market Predictions using Machine Learning\n",
    "\n",
    "Machine learning is all about using the past input to make future predictions isn't it? So ... does that mean we can predict future stock prices!? (The sane answer is not exactly)\n",
    "\n",
    "In this post I use Siraj Raval's youtube video as inspiration and attempt to recreate his teachings on how to create a simple neural net to predict stock prices. \n",
    "\n",
    "Historically speaking, investors are always making educated guesses by analyzing data. They read the financial times, keep an eye on world news, industry trends and a score of other data points that they use in combination with their experience on the market to make high (hopefully) yielding investments. \n",
    "\n",
    "If you were to listen to Burton Malkiel, the author of \"A Random Walk Down Wall Street\" he would say that \"a blind folded monkey throwing darts at a newpaper's financial pages could select a potfolio that would do just as well as one carefully selected by an expert\". Thanks Mr. Malkiel.\n",
    "\n",
    "The fact of the matter is that the top firms today do infact implement machine learning techniques to create algorithms that can be deployed to make more informed investments. If you were to go into any one of these top firms, you would be sure to find rows of machine learning experts working with predictive models. It is estimated that about 70% of wall street is placed on software today, in this age of the algorithms.\n",
    "\n",
    "Quantative analysis is a financial field that has been around for over two decades that studies how certain variables correlate with stock price behavior. With the advent of excel in the late 1900s, financial data could finally be modelled and computed on spreadsheets. This was the begining of a new era on the wall street.\n",
    "\n",
    "Financial prediction was a field mostly restricted to the acedemia and top financial firms up until very recently. With the advent of librairies like Tensorflow, even a student like me is now equipped to build powerful predictive models trained on massive datasets and that is just what I am about to do. I will build a model using Keras with a Tensorflow backend.\n",
    "\n",
    "For my training data, I will be using the daily closing price of the S&P 500 from January 2000 to August 2016. This is a series of data points indexed in time order. The goal here is to predict the closing price at any date past the training. \n"
   ]
  },
  {
   "cell_type": "markdown",
   "metadata": {},
   "source": [
    "I start off by loading the essential libraries:"
   ]
  },
  {
   "cell_type": "code",
   "execution_count": 1,
   "metadata": {},
   "outputs": [
    {
     "name": "stderr",
     "output_type": "stream",
     "text": [
      "Using TensorFlow backend.\n"
     ]
    }
   ],
   "source": [
    "from keras.layers.core import Dense, Activation, Dropout\n",
    "from keras.layers.recurrent import LSTM\n",
    "from keras.models import Sequential \n",
    "import lstm, time "
   ]
  },
  {
   "cell_type": "markdown",
   "metadata": {},
   "source": [
    "Next, I load the date with a load data function. All this basically does is reads the CSV file into an array of values and normalizes it, instead of feeding the values directly into the model. This improves convergence."
   ]
  },
  {
   "cell_type": "code",
   "execution_count": 2,
   "metadata": {
    "collapsed": true
   },
   "outputs": [],
   "source": [
    "# Load the Data\n",
    "X_train, y_train, X_test, y_test = lstm.load_data('sp500.csv', 50, True)"
   ]
  },
  {
   "cell_type": "markdown",
   "metadata": {},
   "source": [
    "In the next step I will build the model, but before that it is important to reiterate what a recurrent network is, and why it is key. Why is it difficult for us to sing a song backwards? Because our brain understands the song in a fixed sequence, where one word follows the other in a specific order accompanied by a melody, and as long as we are able to sing the previous word the next one up comes to us no problem. This is an important point. Our thoughts still have persistence but neural nets do not. If we give a net a fixed size vector as input (ex: image)it will not be able to predict the next frame in a movie because doing so requires the net to have access to a sequence of image vectors as inputs.\n",
    "The same goes for any form of information. For our nets to make predictions, information needs to persist within it and this is exactly what a [recurrent neural net](http://www.wildml.com/2015/09/recurrent-neural-networks-tutorial-part-1-introduction-to-rnns/) enables. Basically, a recurrent network has the ability to connect previous data to the present task.\n",
    "\n",
    "They do however pose one problem, just as in our brains memories become more subtle as they fade into the past, these neural nets also have the problem of a vanishing gradient. A popular solution to this is using Long Short Term Memory (LSTM) cells.\n",
    "Usually, neurons are units that apply an activation function, like a sigmoid, to a linear combination of their inputs, but in an LSTM recurrent net, these neurons are replaced by memory cells. Each cell has an input gate, an output gate and an internal state that feeds into itself across time steps with a constant weight of 1. You can read more about LSTMs [here](http://colah.github.io/posts/2015-08-Understanding-LSTMs/)\n",
    "\n",
    "Alright then, lets build this model!"
   ]
  },
  {
   "cell_type": "code",
   "execution_count": 3,
   "metadata": {},
   "outputs": [
    {
     "name": "stdout",
     "output_type": "stream",
     "text": [
      "compilation time: \n"
     ]
    },
    {
     "data": {
      "text/plain": [
       "(None, 0.040618181228637695)"
      ]
     },
     "execution_count": 3,
     "metadata": {},
     "output_type": "execute_result"
    }
   ],
   "source": [
    "# Building the model\n",
    "\n",
    "model = Sequential()\n",
    "\n",
    "model.add(LSTM(\n",
    "        input_dim = 1,\n",
    "        output_dim = 50,\n",
    "        return_sequences = True))\n",
    "model.add(Dropout(0.2))\n",
    "\n",
    "model.add(LSTM(\n",
    "        100,\n",
    "        return_sequences=False))\n",
    "model.add(Dropout(0.2))\n",
    "\n",
    "model.add(Dense(\n",
    "        output_dim=1))\n",
    "model.add(Activation('linear'))\n",
    "\n",
    "start = time.time()\n",
    "model.compile (loss = 'mse', optimizer = 'rmsprop')\n",
    "\n",
    "print ('compilation time: '), time.time() - start"
   ]
  },
  {
   "cell_type": "markdown",
   "metadata": {},
   "source": [
    "A brief explanation of the above code; for our first layer we set the input dimensions to 1 and we want 50 units for this layer. Setting the return sequence to true means that this layer's output will always be fed to the next layer. All of its activations can be seen as a sequence of predictions and this first layer has made up the input sequence. The dropout rate is set to 20%. \n",
    "I then set my next layer, which is also an LSTM with 100 units, here I set the retunr sequence to False as its output is fed to the next layer only at the end of the sequence. \n",
    "Finally I use the linear dense layer to aggregate the data from the prediction vector to a single value. \n",
    "The model is then complied using a loss function - Mean squared Error, and optimized using the gradient descent optimizer labelled rmsprop."
   ]
  },
  {
   "cell_type": "markdown",
   "metadata": {},
   "source": [
    "Next up the model is trained:"
   ]
  },
  {
   "cell_type": "code",
   "execution_count": 4,
   "metadata": {},
   "outputs": [
    {
     "name": "stdout",
     "output_type": "stream",
     "text": [
      "Train on 3523 samples, validate on 186 samples\n",
      "Epoch 1/1\n",
      "3523/3523 [==============================] - 13s - loss: 0.0026 - val_loss: 5.2850e-04\n"
     ]
    },
    {
     "data": {
      "text/plain": [
       "<keras.callbacks.History at 0x122df8eb8>"
      ]
     },
     "execution_count": 4,
     "metadata": {},
     "output_type": "execute_result"
    }
   ],
   "source": [
    "# Training\n",
    "\n",
    "model.fit(\n",
    "        X_train,\n",
    "        y_train,\n",
    "        batch_size =512,\n",
    "        nb_epoch = 1,\n",
    "        validation_split = 0.05)"
   ]
  },
  {
   "cell_type": "markdown",
   "metadata": {},
   "source": [
    "Above, the model is trained with the fit function, and I now test this model over the next 50 steps, at several points using matplotlib:"
   ]
  },
  {
   "cell_type": "code",
   "execution_count": 5,
   "metadata": {},
   "outputs": [
    {
     "name": "stdout",
     "output_type": "stream",
     "text": [
      "yo\n"
     ]
    },
    {
     "data": {
      "image/png": "[encoded data removed]",
      "text/plain": [
       "<matplotlib.figure.Figure at 0x122d644a8>"
      ]
     },
     "metadata": {},
     "output_type": "display_data"
    }
   ],
   "source": [
    "# Test!\n",
    "\n",
    "predictions = lstm.predict_sequences_multiple(model, X_test, 50, 50)\n",
    "lstm.plot_results_multiple(predictions, y_test, 50)"
   ]
  },
  {
   "cell_type": "markdown",
   "metadata": {
    "collapsed": true
   },
   "source": [
    "Pretty cool! There is an actual corelation betweeen what our model predicts what the actual data does! Obviously this does not mean everybody can now proceed to become a millionaire. This is however, a steong analytical tool that will help us make better educated guesses about the direction in which the market is most likely to go."
   ]
  }
 ],
 "metadata": {
  "kernelspec": {
   "display_name": "Python 3",
   "language": "python",
   "name": "python3"
  },
  "language_info": {
   "codemirror_mode": {
    "name": "ipython",
    "version": 3
   },
   "file_extension": ".py",
   "mimetype": "text/x-python",
   "name": "python",
   "nbconvert_exporter": "python",
   "pygments_lexer": "ipython3",
   "version": "3.5.3"
  }
 },
 "nbformat": 4,
 "nbformat_minor": 2
}
